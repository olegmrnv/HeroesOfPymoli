{
 "cells": [
  {
   "cell_type": "markdown",
   "metadata": {},
   "source": [
    "### Heroes Of Pymoli Data Analysis\n",
    "* Of the 1163 active players, the vast majority are male (84%). There also exists, a smaller, but notable proportion of female players (14%).\n",
    "\n",
    "* Our peak age demographic falls between 20-24 (44.8%) with secondary groups falling between 15-19 (18.60%) and 25-29 (13.4%).  \n",
    "-----"
   ]
  },
  {
   "cell_type": "markdown",
   "metadata": {},
   "source": [
    "### Note\n",
    "* Instructions have been included for each segment. You do not have to follow them exactly, but they are included to help you think through the steps."
   ]
  },
  {
   "cell_type": "code",
   "execution_count": null,
   "metadata": {},
   "outputs": [],
   "source": [
    "# Dependencies and Setup\n",
    "import pandas as pd\n",
    "import numpy as np\n",
    "\n",
    "# File to Load (Remember to Change These)\n",
    "file_to_load = \"Resources/purchase_data.csv\"\n",
    "\n",
    "# Read Purchasing File and store into Pandas data frame\n",
    "purchase_data = pd.read_csv(file_to_load)"
   ]
  },
  {
   "cell_type": "markdown",
   "metadata": {},
   "source": [
    "## Player Count"
   ]
  },
  {
   "cell_type": "markdown",
   "metadata": {},
   "source": [
    "* Display the total number of players\n"
   ]
  },
  {
   "cell_type": "code",
   "execution_count": null,
   "metadata": {},
   "outputs": [],
   "source": [
    "total_players = {\"Total Players\":[purchase_data.SN.nunique()]}\n",
    "pd.DataFrame(total_players)\n"
   ]
  },
  {
   "cell_type": "markdown",
   "metadata": {},
   "source": [
    "## Purchasing Analysis (Total)"
   ]
  },
  {
   "cell_type": "markdown",
   "metadata": {},
   "source": [
    "* Run basic calculations to obtain number of unique items, average price, etc.\n",
    "\n",
    "\n",
    "* Create a summary data frame to hold the results\n",
    "\n",
    "\n",
    "* Optional: give the displayed data cleaner formatting\n",
    "\n",
    "\n",
    "* Display the summary data frame\n"
   ]
  },
  {
   "cell_type": "code",
   "execution_count": null,
   "metadata": {
    "scrolled": true
   },
   "outputs": [],
   "source": [
    "unique_items = purchase_data[\"Item ID\"].nunique()\n",
    "average_price = purchase_data.Price.mean()\n",
    "number_of_purchases = purchase_data.Price.count()\n",
    "total_revenue = purchase_data.Price.sum()\n",
    "\n",
    "\n",
    "summary = pd.DataFrame({\"Number of Unique Items\" : [unique_items],\n",
    "                      \"Average Price\" : '${:,.2f}'.format(average_price),\n",
    "                      \"Number of Purchases\": [number_of_purchases],\n",
    "                      \"Total Revenue\": '${:,.2f}'.format(total_revenue)})\n",
    "summary"
   ]
  },
  {
   "cell_type": "markdown",
   "metadata": {},
   "source": [
    "## Gender Demographics"
   ]
  },
  {
   "cell_type": "markdown",
   "metadata": {},
   "source": [
    "* Percentage and Count of Male Players\n",
    "\n",
    "\n",
    "* Percentage and Count of Female Players\n",
    "\n",
    "\n",
    "* Percentage and Count of Other / Non-Disclosed\n",
    "\n",
    "\n"
   ]
  },
  {
   "cell_type": "code",
   "execution_count": null,
   "metadata": {},
   "outputs": [],
   "source": [
    "g_frame = pd.DataFrame ({\"Total Count\": purchase_data.groupby(\"Gender\").SN.nunique(), \"Percentage of Players\": round(purchase_data.groupby(\"Gender\").SN.nunique() / purchase_data.SN.nunique()*100,2)})\n",
    "del g_frame.index.name\n",
    "Gender_Demographics = g_frame.sort_values(by=['Total Count'], ascending = False)\n",
    "Gender_Demographics"
   ]
  },
  {
   "cell_type": "markdown",
   "metadata": {},
   "source": [
    "\n",
    "## Purchasing Analysis (Gender)"
   ]
  },
  {
   "cell_type": "markdown",
   "metadata": {},
   "source": [
    "* Run basic calculations to obtain purchase count, avg. purchase price, avg. purchase total per person etc. by gender\n",
    "\n",
    "\n",
    "\n",
    "\n",
    "* Create a summary data frame to hold the results\n",
    "\n",
    "\n",
    "* Optional: give the displayed data cleaner formatting\n",
    "\n",
    "\n",
    "* Display the summary data frame"
   ]
  },
  {
   "cell_type": "code",
   "execution_count": null,
   "metadata": {},
   "outputs": [],
   "source": [
    "purchase_count = pd.DataFrame(purchase_data.groupby(\"Gender\").SN.count())\n",
    "ave_purchase_price = pd.DataFrame(purchase_data.groupby(\"Gender\").Price.mean().astype(float).map(\"${:.2f}\".format))\n",
    "total_purchase_value = pd.DataFrame(purchase_data.groupby(\"Gender\").Price.sum().astype(float).map(\"${:,.2f}\".format))\n",
    "total_per_person = pd.DataFrame(purchase_data.groupby([\"Gender\",\"SN\"]).Price.sum())\n",
    "avg_total_per_person = pd.DataFrame(total_per_person.groupby(\"Gender\").Price.mean().astype(float).map(\"${:.2f}\".format))\n",
    "Purchasing_Analysis = pd.merge(purchase_count,ave_purchase_price,on=\"Gender\")\n",
    "Purchasing_Analysis = pd.merge(Purchasing_Analysis,total_purchase_value,on=\"Gender\")\n",
    "Purchasing_Analysis = pd.merge(Purchasing_Analysis,avg_total_per_person,on=\"Gender\")\n",
    "Purchasing_Analysis = Purchasing_Analysis.rename(columns = {\"SN\":\"Purchase Count\",\n",
    "                                                           \"Price_x\":\"Average Purchase Price\",\n",
    "                                                           \"Price_y\":\"Total Purchase Value\",\n",
    "                                                           \"Price\":\"Avg Total Purchase per Person\"})\n",
    "Purchasing_Analysis\n"
   ]
  },
  {
   "cell_type": "markdown",
   "metadata": {},
   "source": [
    "## Age Demographics"
   ]
  },
  {
   "cell_type": "markdown",
   "metadata": {},
   "source": [
    "* Establish bins for ages\n",
    "\n",
    "\n",
    "* Categorize the existing players using the age bins. Hint: use pd.cut()\n",
    "\n",
    "\n",
    "* Calculate the numbers and percentages by age group\n",
    "\n",
    "\n",
    "* Create a summary data frame to hold the results\n",
    "\n",
    "\n",
    "* Optional: round the percentage column to two decimal points\n",
    "\n",
    "\n",
    "* Display Age Demographics Table\n"
   ]
  },
  {
   "cell_type": "code",
   "execution_count": null,
   "metadata": {},
   "outputs": [],
   "source": [
    "bins = [0, 9, 14, 19, 24, 29, 34, 39, 100]\n",
    "tickers = [\"<10\", \"10-14\", \"15-19\", \"20-24\", \"25-29\", \"30-34\", \"35-39\", \"40+\"]\n",
    "\n",
    "age_demographics = purchase_data\n",
    "age_demographics[\"Category\"] = pd.cut(age_demographics.Age, bins, labels = tickers, right = True)\n",
    "total_count = pd.DataFrame(age_demographics.groupby(\"Category\").SN.nunique())\n",
    "percentage = pd.DataFrame(round(age_demographics.groupby(\"Category\").SN.nunique() / total_players['Total Players'] * 100, 2))\n",
    "age_demographics = pd.merge(total_count, percentage, on=\"Category\")\n",
    "del age_demographics.index.name\n",
    "age_demographics = age_demographics.rename(columns={\"SN_x\":\"Total Count\", \"SN_y\":\"Percentage of Players\"})\n",
    "age_demographics"
   ]
  },
  {
   "cell_type": "markdown",
   "metadata": {},
   "source": [
    "## Purchasing Analysis (Age)"
   ]
  },
  {
   "cell_type": "markdown",
   "metadata": {},
   "source": [
    "* Bin the purchase_data data frame by age\n",
    "\n",
    "\n",
    "* Run basic calculations to obtain purchase count, avg. purchase price, avg. purchase total per person etc. in the table below\n",
    "\n",
    "\n",
    "* Create a summary data frame to hold the results\n",
    "\n",
    "\n",
    "* Optional: give the displayed data cleaner formatting\n",
    "\n",
    "\n",
    "* Display the summary data frame"
   ]
  },
  {
   "cell_type": "code",
   "execution_count": null,
   "metadata": {},
   "outputs": [],
   "source": [
    "bins = [0, 9, 14, 19, 24, 29, 34, 39, 100]\n",
    "tickers = [\"<10\", \"10-14\", \"15-19\", \"20-24\", \"25-29\", \"30-34\", \"35-39\", \"40+\"]\n",
    "\n",
    "purchasing_analysis = purchase_data\n",
    "purchasing_analysis[\"Category\"] = pd.cut(purchasing_analysis.Age, bins, labels = tickers, right = True)\n",
    "\n",
    "purchase_count = pd.DataFrame(purchasing_analysis.groupby(\"Category\").SN.count())\n",
    "avg_purchase_price = pd.DataFrame(purchasing_analysis.groupby(\"Category\").Price.mean().astype(float).map(\"${:.2f}\".format))\n",
    "total_purchase_value = pd.DataFrame(purchasing_analysis.groupby(\"Category\").Price.sum().astype(float).map(\"${:,.2f}\".format))\n",
    "avg_total_per_person = pd.DataFrame(purchasing_analysis.groupby([\"Category\",\"SN\"]).Price.sum())\n",
    "avg_total_per_person = pd.DataFrame(avg_total_per_person.groupby(\"Category\").Price.mean().astype(float).map(\"${:.2f}\".format))\n",
    "purchasing_analysis = pd.merge(purchase_count,avg_purchase_price,on=\"Category\")\n",
    "purchasing_analysis = pd.merge(purchasing_analysis,total_purchase_value,on=\"Category\")\n",
    "purchasing_analysis = pd.merge(purchasing_analysis,avg_total_per_person,on=\"Category\")\n",
    "del purchasing_analysis.index.name\n",
    "purchasing_analysis = purchasing_analysis.rename(columns={\"SN\":\"Purchase Count\", \"Price_x\":\"Average Purchase Price\",\n",
    "                                                          \"Price_y\":\"Total Purchase Value\",\"Price\":\"Avg Total Purchase per Person\"})\n",
    "purchasing_analysis"
   ]
  },
  {
   "cell_type": "markdown",
   "metadata": {},
   "source": [
    "## Top Spenders"
   ]
  },
  {
   "cell_type": "markdown",
   "metadata": {},
   "source": [
    "* Run basic calculations to obtain the results in the table below\n",
    "\n",
    "\n",
    "* Create a summary data frame to hold the results\n",
    "\n",
    "\n",
    "* Sort the total purchase value column in descending order\n",
    "\n",
    "\n",
    "* Optional: give the displayed data cleaner formatting\n",
    "\n",
    "\n",
    "* Display a preview of the summary data frame\n",
    "\n"
   ]
  },
  {
   "cell_type": "code",
   "execution_count": null,
   "metadata": {},
   "outputs": [],
   "source": [
    "purchase_count = pd.DataFrame(purchase_data.SN.value_counts())\n",
    "purchase_count = purchase_count.rename(columns={\"SN\":\"Purchase Count\"})\n",
    "purchase_count.index.name = \"SN\"\n",
    "average_purchase_price  = pd.DataFrame(purchase_data.groupby(\"SN\").Price.mean().astype(float).map(\"${:.2f}\".format))\n",
    "average_purchase_price = average_purchase_price.rename(columns={\"Price\":\"Average Purchase Price\"})\n",
    "total_purchase_value = pd.DataFrame(purchase_data.groupby(\"SN\").Price.sum())\n",
    "total_purchase_value = total_purchase_value.rename(columns={\"Price\":\"Total Purchase Value\"})\n",
    "top_spenders = pd.merge(purchase_count,average_purchase_price,on=\"SN\")\n",
    "top_spenders = pd.merge(top_spenders,total_purchase_value,on=\"SN\")\n",
    "top_spenders = top_spenders.sort_values(by=[\"Total Purchase Value\"],ascending = False)\n",
    "top_spenders[\"Total Purchase Value\"] = top_spenders[\"Total Purchase Value\"].astype(float).map(\"${:.2f}\".format)\n",
    "top_spenders.head()"
   ]
  },
  {
   "cell_type": "markdown",
   "metadata": {},
   "source": [
    "## Most Popular Items"
   ]
  },
  {
   "cell_type": "markdown",
   "metadata": {},
   "source": [
    "* Retrieve the Item ID, Item Name, and Item Price columns\n",
    "\n",
    "\n",
    "* Group by Item ID and Item Name. Perform calculations to obtain purchase count, item price, and total purchase value\n",
    "\n",
    "\n",
    "* Create a summary data frame to hold the results\n",
    "\n",
    "\n",
    "* Sort the purchase count column in descending order\n",
    "\n",
    "\n",
    "* Optional: give the displayed data cleaner formatting\n",
    "\n",
    "\n",
    "* Display a preview of the summary data frame\n",
    "\n"
   ]
  },
  {
   "cell_type": "code",
   "execution_count": null,
   "metadata": {},
   "outputs": [],
   "source": [
    "items = purchase_data[[\"Item ID\",\"Item Name\",\"Price\"]]\n",
    "items = items.groupby([\"Item ID\", \"Item Name\"]).Price.agg(['count','unique','sum'])\n",
    "items = items.sort_values(by=['count'], ascending = False)\n",
    "items[\"sum\"] = items[\"sum\"].astype(float).map(\"${:.2f}\".format)\n",
    "items[\"unique\"] = items[\"unique\"].astype(float).map(\"${:.2f}\".format)\n",
    "items = items.rename(columns={\"count\":\"Purchase Count\",\"unique\":\"Item Price\",\"sum\":\"Total Purchase Value\"})\n",
    "\n",
    "items.head()"
   ]
  },
  {
   "cell_type": "markdown",
   "metadata": {},
   "source": [
    "## Most Profitable Items"
   ]
  },
  {
   "cell_type": "markdown",
   "metadata": {},
   "source": [
    "* Sort the above table by total purchase value in descending order\n",
    "\n",
    "\n",
    "* Optional: give the displayed data cleaner formatting\n",
    "\n",
    "\n",
    "* Display a preview of the data frame\n",
    "\n"
   ]
  },
  {
   "cell_type": "code",
   "execution_count": null,
   "metadata": {
    "scrolled": true
   },
   "outputs": [],
   "source": [
    "items['Total Purchase Value'] = items['Total Purchase Value'].str[1:]\n",
    "items['Total Purchase Value'] = items['Total Purchase Value'].astype(float)\n",
    "items = items.sort_values(by=['Total Purchase Value'], ascending = False)\n",
    "items.head()\n"
   ]
  },
  {
   "cell_type": "code",
   "execution_count": null,
   "metadata": {},
   "outputs": [],
   "source": []
  }
 ],
 "metadata": {
  "anaconda-cloud": {},
  "kernel_info": {
   "name": "python3"
  },
  "kernelspec": {
   "display_name": "Python 3",
   "language": "python",
   "name": "python3"
  },
  "language_info": {
   "codemirror_mode": {
    "name": "ipython",
    "version": 3
   },
   "file_extension": ".py",
   "mimetype": "text/x-python",
   "name": "python",
   "nbconvert_exporter": "python",
   "pygments_lexer": "ipython3",
   "version": "3.7.1"
  },
  "nteract": {
   "version": "0.2.0"
  }
 },
 "nbformat": 4,
 "nbformat_minor": 2
}
